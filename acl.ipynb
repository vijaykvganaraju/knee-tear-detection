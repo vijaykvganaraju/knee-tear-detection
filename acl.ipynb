{
  "cells": [
    {
      "cell_type": "code",
      "execution_count": 2,
      "metadata": {
        "colab": {
          "base_uri": "https://localhost:8080/"
        },
        "executionInfo": {
          "elapsed": 16668,
          "status": "ok",
          "timestamp": 1651026300899,
          "user": {
            "displayName": "Vijay Ganaraju",
            "userId": "17679492108365772175"
          },
          "user_tz": 300
        },
        "id": "EL8q3IrSwaiI",
        "outputId": "048d474f-7140-4567-f553-e01f9bc5e730"
      },
      "outputs": [
        {
          "name": "stdout",
          "output_type": "stream",
          "text": [
            "Mounted at /content/drive\n"
          ]
        }
      ],
      "source": [
        "from google.colab import drive\n",
        "drive.mount('/content/drive')"
      ]
    },
    {
      "cell_type": "code",
      "execution_count": 1,
      "metadata": {
        "executionInfo": {
          "elapsed": 3120,
          "status": "ok",
          "timestamp": 1651026306343,
          "user": {
            "displayName": "Vijay Ganaraju",
            "userId": "17679492108365772175"
          },
          "user_tz": 300
        },
        "id": "ksZlGep_vqAJ"
      },
      "outputs": [],
      "source": [
        "import os\n",
        "import numpy as np\n",
        "import pandas as pd\n",
        "import tensorflow as tf\n",
        "from tensorflow.keras import layers, models, optimizers, losses\n",
        "import matplotlib.pyplot as plt\n"
      ]
    },
    {
      "cell_type": "code",
      "execution_count": 2,
      "metadata": {
        "executionInfo": {
          "elapsed": 112,
          "status": "ok",
          "timestamp": 1651026308073,
          "user": {
            "displayName": "Vijay Ganaraju",
            "userId": "17679492108365772175"
          },
          "user_tz": 300
        },
        "id": "Jc23rGtyvqAP"
      },
      "outputs": [],
      "source": [
        "trn = r'/content/drive/MyDrive/Colab Notebooks/MRNet-v1.0/train'\n",
        "vld = r'/content/drive/MyDrive/Colab Notebooks/MRNet-v1.0/valid'\n",
        "trn_labels_path = r'/content/drive/MyDrive/Colab Notebooks/MRNet-v1.0/train-acl.csv'\n",
        "vldn_labels_path = r'/content/drive/MyDrive/Colab Notebooks/MRNet-v1.0/valid-acl.csv'"
      ]
    },
    {
      "cell_type": "code",
      "execution_count": 5,
      "metadata": {
        "executionInfo": {
          "elapsed": 14393,
          "status": "ok",
          "timestamp": 1651026323260,
          "user": {
            "displayName": "Vijay Ganaraju",
            "userId": "17679492108365772175"
          },
          "user_tz": 300
        },
        "id": "kZNTVLjvvqAQ"
      },
      "outputs": [],
      "source": [
        "a = [file for file in os.listdir(trn+r'/axial')]\n",
        "c = [file for file in os.listdir(trn+r'/coronal')]\n",
        "s = [file for file in os.listdir(trn+r'/sagittal')]\n",
        "\n",
        "a_vldn = [file for file in os.listdir(vld+r'/axial')]\n",
        "c_vldn = [file for file in os.listdir(vld+r'/coronal')]\n",
        "s_vldn = [file for file in os.listdir(vld+r'/sagittal')]\n"
      ]
    },
    {
      "cell_type": "code",
      "execution_count": 28,
      "metadata": {
        "colab": {
          "base_uri": "https://localhost:8080/"
        },
        "executionInfo": {
          "elapsed": 21459,
          "status": "ok",
          "timestamp": 1651030614799,
          "user": {
            "displayName": "Vijay Ganaraju",
            "userId": "17679492108365772175"
          },
          "user_tz": 300
        },
        "id": "aDbBvcmnvqAR",
        "outputId": "98fcac2e-8515-4892-8276-1af970963762"
      },
      "outputs": [
        {
          "name": "stdout",
          "output_type": "stream",
          "text": [
            "(1130, 256, 256, 11, 1)\n"
          ]
        }
      ],
      "source": [
        "acl_img = []\n",
        "\n",
        "for file in a:\n",
        "    temp=np.load(os.path.join(trn,'axial',file))\n",
        "    temp = np.reshape(temp,(256,256,temp.shape[0]))\n",
        "    assert temp.shape[0]>10\n",
        "\n",
        "    tmp_shape = temp.shape[2] // 2\n",
        "    low,high = tmp_shape - 5, tmp_shape + 6\n",
        "    temp = temp[:, :, low:high]\n",
        "    x_dim,y_dim,z_dim = temp.shape\n",
        "    temp= np.reshape(temp,(x_dim,y_dim,z_dim,1))\n",
        "    acl_img.append(temp)\n",
        "\n",
        "a_img = np.array(acl_img)\n",
        "print(np.shape(acl_img))\n",
        "\n",
        "trn_labels = pd.read_csv(trn_labels_path,header=None)\n",
        "trn_labels = np.reshape(trn_labels[1].to_numpy(), (1130, 1))\n"
      ]
    },
    {
      "cell_type": "code",
      "execution_count": 29,
      "metadata": {
        "colab": {
          "base_uri": "https://localhost:8080/"
        },
        "executionInfo": {
          "elapsed": 2783,
          "status": "ok",
          "timestamp": 1651030617578,
          "user": {
            "displayName": "Vijay Ganaraju",
            "userId": "17679492108365772175"
          },
          "user_tz": 300
        },
        "id": "0OlFdyXcvqAS",
        "outputId": "37b8984e-795a-4f42-8d03-e30496a80572"
      },
      "outputs": [
        {
          "name": "stdout",
          "output_type": "stream",
          "text": [
            "(120, 256, 256, 11, 1)\n"
          ]
        }
      ],
      "source": [
        "acl_img_vldn = []\n",
        "\n",
        "for file in a_vldn:\n",
        "    temp=np.load(os.path.join(vld, 'axial', file))\n",
        "    temp = np.reshape(temp, (256, 256, temp.shape[0]))\n",
        "    assert temp.shape[0] > 10\n",
        "\n",
        "    tmp_shape = temp.shape[2] // 2\n",
        "    low, high = tmp_shape - 5, tmp_shape + 6\n",
        "    temp = temp[:, :, low:high]\n",
        "    x_dim, y_dim, z_dim = temp.shape\n",
        "    temp= np.reshape(temp, (x_dim, y_dim, z_dim, 1))\n",
        "    acl_img_vldn.append(temp)\n",
        "\n",
        "acl_img_vldn = np.array(acl_img_vldn)\n",
        "print(np.shape(acl_img_vldn))\n",
        "vldn_labels = pd.read_csv(vldn_labels_path, header=None)\n",
        "vldn_labels = np.reshape(vldn_labels[1].to_numpy(), (len(vldn_labels), 1))\n"
      ]
    },
    {
      "cell_type": "code",
      "execution_count": 30,
      "metadata": {
        "executionInfo": {
          "elapsed": 4,
          "status": "ok",
          "timestamp": 1651030617579,
          "user": {
            "displayName": "Vijay Ganaraju",
            "userId": "17679492108365772175"
          },
          "user_tz": 300
        },
        "id": "rUA-oa_JvqAT"
      },
      "outputs": [],
      "source": [
        "# model = models.Sequential()\n",
        "# model.add(layers.Conv2D(16, (3,3), activation=tf.keras.layers.LeakyReLU(alpha=0.01), input_shape=(256, 256, 10)))\n",
        "# model.add(layers.MaxPooling2D((2, 2)))\n",
        "# model.add(layers.BatchNormalization())\n",
        "# model.add(layers.Conv2D(32, (3,3), activation=tf.keras.layers.LeakyReLU(alpha=0.01), input_shape=(256, 256, 10)))\n",
        "# model.add(layers.MaxPooling2D((2, 2)))\n",
        "# model.add(layers.BatchNormalization())\n",
        "# model.add(layers.Conv2D(64, (3,3), activation=tf.keras.layers.LeakyReLU(alpha=0.01), input_shape=(256, 256, 10)))\n",
        "# model.add(layers.MaxPooling2D((2, 2)))\n",
        "# model.add(layers.BatchNormalization())\n",
        "\n",
        "# model.add(layers.Flatten())\n",
        "# model.add(layers.Dense(128, activation=tf.keras.layers.LeakyReLU(alpha=0.01)))\n",
        "# model.add(layers.Dense(2, activation = 'softmax'))\n",
        "# model.summary()"
      ]
    },
    {
      "cell_type": "code",
      "execution_count": 3,
      "metadata": {
        "colab": {
          "base_uri": "https://localhost:8080/"
        },
        "executionInfo": {
          "elapsed": 3663,
          "status": "ok",
          "timestamp": 1651030621332,
          "user": {
            "displayName": "Vijay Ganaraju",
            "userId": "17679492108365772175"
          },
          "user_tz": 300
        },
        "id": "yANjRmLJvqAT",
        "outputId": "d84514e2-f77c-4080-cdae-7589faf6ef5f"
      },
      "outputs": [
        {
          "name": "stdout",
          "output_type": "stream",
          "text": [
            "Model: \"sequential\"\n",
            "_________________________________________________________________\n",
            " Layer (type)                Output Shape              Param #   \n",
            "=================================================================\n",
            " conv3d (Conv3D)             (None, 254, 254, 9, 1)    28        \n",
            "                                                                 \n",
            " batch_normalization (BatchN  (None, 254, 254, 9, 1)   4         \n",
            " ormalization)                                                   \n",
            "                                                                 \n",
            " conv3d_1 (Conv3D)           (None, 252, 252, 7, 1)    28        \n",
            "                                                                 \n",
            " batch_normalization_1 (Batc  (None, 252, 252, 7, 1)   4         \n",
            " hNormalization)                                                 \n",
            "                                                                 \n",
            " conv3d_2 (Conv3D)           (None, 250, 250, 5, 1)    28        \n",
            "                                                                 \n",
            " batch_normalization_2 (Batc  (None, 250, 250, 5, 1)   4         \n",
            " hNormalization)                                                 \n",
            "                                                                 \n",
            " conv3d_3 (Conv3D)           (None, 248, 248, 3, 1)    28        \n",
            "                                                                 \n",
            " batch_normalization_3 (Batc  (None, 248, 248, 3, 1)   4         \n",
            " hNormalization)                                                 \n",
            "                                                                 \n",
            " reshape (Reshape)           (None, 248, 248, 3)       0         \n",
            "                                                                 \n",
            " conv2d (Conv2D)             (None, 246, 246, 3)       84        \n",
            "                                                                 \n",
            " batch_normalization_4 (Batc  (None, 246, 246, 3)      12        \n",
            " hNormalization)                                                 \n",
            "                                                                 \n",
            " conv2d_1 (Conv2D)           (None, 244, 244, 3)       84        \n",
            "                                                                 \n",
            " batch_normalization_5 (Batc  (None, 244, 244, 3)      12        \n",
            " hNormalization)                                                 \n",
            "                                                                 \n",
            " conv2d_2 (Conv2D)           (None, 242, 242, 3)       84        \n",
            "                                                                 \n",
            " batch_normalization_6 (Batc  (None, 242, 242, 3)      12        \n",
            " hNormalization)                                                 \n",
            "                                                                 \n",
            " conv2d_3 (Conv2D)           (None, 240, 240, 3)       84        \n",
            "                                                                 \n",
            " batch_normalization_7 (Batc  (None, 240, 240, 3)      12        \n",
            " hNormalization)                                                 \n",
            "                                                                 \n",
            " conv2d_4 (Conv2D)           (None, 238, 238, 3)       84        \n",
            "                                                                 \n",
            " batch_normalization_8 (Batc  (None, 238, 238, 3)      12        \n",
            " hNormalization)                                                 \n",
            "                                                                 \n",
            " conv2d_5 (Conv2D)           (None, 236, 236, 3)       84        \n",
            "                                                                 \n",
            " batch_normalization_9 (Batc  (None, 236, 236, 3)      12        \n",
            " hNormalization)                                                 \n",
            "                                                                 \n",
            " conv2d_6 (Conv2D)           (None, 234, 234, 3)       84        \n",
            "                                                                 \n",
            " batch_normalization_10 (Bat  (None, 234, 234, 3)      12        \n",
            " chNormalization)                                                \n",
            "                                                                 \n",
            " conv2d_7 (Conv2D)           (None, 232, 232, 3)       84        \n",
            "                                                                 \n",
            " batch_normalization_11 (Bat  (None, 232, 232, 3)      12        \n",
            " chNormalization)                                                \n",
            "                                                                 \n",
            " conv2d_8 (Conv2D)           (None, 230, 230, 3)       84        \n",
            "                                                                 \n",
            " batch_normalization_12 (Bat  (None, 230, 230, 3)      12        \n",
            " chNormalization)                                                \n",
            "                                                                 \n",
            " conv2d_9 (Conv2D)           (None, 228, 228, 3)       84        \n",
            "                                                                 \n",
            " batch_normalization_13 (Bat  (None, 228, 228, 3)      12        \n",
            " chNormalization)                                                \n",
            "                                                                 \n",
            " conv2d_10 (Conv2D)          (None, 226, 226, 3)       84        \n",
            "                                                                 \n",
            " batch_normalization_14 (Bat  (None, 226, 226, 3)      12        \n",
            " chNormalization)                                                \n",
            "                                                                 \n",
            " conv2d_11 (Conv2D)          (None, 224, 224, 3)       84        \n",
            "                                                                 \n",
            " batch_normalization_15 (Bat  (None, 224, 224, 3)      12        \n",
            " chNormalization)                                                \n",
            "                                                                 \n",
            " reshape_1 (Reshape)         (None, 224, 224, 3)       0         \n",
            "                                                                 \n",
            " model (Functional)          (None, 2048)              23587712  \n",
            "                                                                 \n",
            " dense (Dense)               (None, 1000)              2049000   \n",
            "                                                                 \n",
            " dense_1 (Dense)             (None, 500)               500500    \n",
            "                                                                 \n",
            " dense_2 (Dense)             (None, 1)                 501       \n",
            "                                                                 \n",
            "=================================================================\n",
            "Total params: 26,138,993\n",
            "Trainable params: 26,085,793\n",
            "Non-trainable params: 53,200\n",
            "_________________________________________________________________\n"
          ]
        }
      ],
      "source": [
        "model = tf.keras.Sequential([\n",
        "    tf.keras.layers.Conv3D(1, (3, 3, 3), input_shape=(256, 256, 11, 1)),\n",
        "    tf.keras.layers.BatchNormalization(),\n",
        "    tf.keras.layers.Conv3D(1, (3, 3, 3)),\n",
        "    tf.keras.layers.BatchNormalization(),\n",
        "    tf.keras.layers.Conv3D(1, (3, 3, 3)),\n",
        "    tf.keras.layers.BatchNormalization(),\n",
        "    tf.keras.layers.Conv3D(1, (3, 3, 3)),\n",
        "    tf.keras.layers.BatchNormalization(),\n",
        "    tf.keras.layers.Reshape((248,248,3)),\n",
        "    tf.keras.layers.Conv2D(3, (3, 3)),\n",
        "    tf.keras.layers.BatchNormalization(),\n",
        "    tf.keras.layers.Conv2D(3, (3, 3)),\n",
        "    tf.keras.layers.BatchNormalization(),\n",
        "    tf.keras.layers.Conv2D(3, (3, 3)),\n",
        "    tf.keras.layers.BatchNormalization(),\n",
        "    tf.keras.layers.Conv2D(3, (3, 3)),\n",
        "    tf.keras.layers.BatchNormalization(),\n",
        "    tf.keras.layers.Conv2D(3, (3, 3)),\n",
        "    tf.keras.layers.BatchNormalization(),\n",
        "    tf.keras.layers.Conv2D(3, (3, 3)),\n",
        "    tf.keras.layers.BatchNormalization(),\n",
        "    tf.keras.layers.Conv2D(3, (3, 3)),\n",
        "    tf.keras.layers.BatchNormalization(),\n",
        "    tf.keras.layers.Conv2D(3, (3, 3)),\n",
        "    tf.keras.layers.BatchNormalization(),\n",
        "    tf.keras.layers.Conv2D(3, (3, 3)),\n",
        "    tf.keras.layers.BatchNormalization(),\n",
        "    tf.keras.layers.Conv2D(3, (3, 3)),\n",
        "    tf.keras.layers.BatchNormalization(),\n",
        "    tf.keras.layers.Conv2D(3, (3, 3)),\n",
        "    tf.keras.layers.BatchNormalization(),\n",
        "    tf.keras.layers.Conv2D(3, (3, 3)),\n",
        "    tf.keras.layers.BatchNormalization(),\n",
        "    tf.keras.layers.Reshape((224,224,3))\n",
        " \n",
        "])\n",
        "\n",
        "base_model =tf.keras.applications.resnet50.ResNet50(\n",
        "    include_top=True,\n",
        "    weights='imagenet',\n",
        "    input_tensor=None,\n",
        "    input_shape=None,\n",
        "    pooling=None,\n",
        "    classes=1000\n",
        ")\n",
        "\n",
        "base_model_conv = tf.keras.Model(inputs = base_model.input, outputs = base_model.layers[-2].output)\n",
        "\n",
        "model.add(base_model_conv)\n",
        "model.add(layers.Dense(1000, activation=tf.keras.layers.LeakyReLU(alpha=0.01)))\n",
        "model.add(layers.Dense(500, activation=tf.keras.layers.LeakyReLU(alpha=0.01)))\n",
        "model.add(layers.Dense(1, activation = 'sigmoid'))\n",
        "model.build()\n",
        "model.summary()"
      ]
    },
    {
      "cell_type": "code",
      "execution_count": 32,
      "metadata": {
        "executionInfo": {
          "elapsed": 4,
          "status": "ok",
          "timestamp": 1651030621333,
          "user": {
            "displayName": "Vijay Ganaraju",
            "userId": "17679492108365772175"
          },
          "user_tz": 300
        },
        "id": "bAZrKC84vqAV"
      },
      "outputs": [],
      "source": [
        "model.compile(optimizer=optimizers.Adam(learning_rate=0.001, beta_1=0.9, beta_2=0.999, name='Adam'),\n",
        "              loss = losses.BinaryCrossentropy(from_logits = False),\n",
        "              metrics=[\n",
        "                  tf.keras.metrics.Accuracy(name='accuracy', dtype=None),\n",
        "                  tf.keras.metrics.AUC()\n",
        "              ]\n",
        ")\n",
        "                  "
      ]
    },
    {
      "cell_type": "code",
      "execution_count": 33,
      "metadata": {
        "colab": {
          "base_uri": "https://localhost:8080/"
        },
        "executionInfo": {
          "elapsed": 1472025,
          "status": "ok",
          "timestamp": 1651032093355,
          "user": {
            "displayName": "Vijay Ganaraju",
            "userId": "17679492108365772175"
          },
          "user_tz": 300
        },
        "id": "8-OhKz6RvqAV",
        "outputId": "4c30d6f7-8b93-40f7-9e1f-e02421c831fe"
      },
      "outputs": [
        {
          "name": "stdout",
          "output_type": "stream",
          "text": [
            "Epoch 1/25\n",
            "36/36 [==============================] - 68s 2s/step loss: 2.0269 - accuracy: 0.2707 - val_loss: 1.3401 - val_accuracy: 0.5000\n",
            "Epoch 2/25\n",
            "36/36 [==============================] - 56s 2s/step - loss: 1.2022 - accuracy: 0.5862 - val_loss: 0.8101 - val_accuracy: 0.7500\n",
            "Epoch 3/25\n",
            "36/36 [==============================] - 56s 2s/step - loss: 0.8603 - accuracy: 0.7155 - val_loss: 0.6770 - val_accuracy: 0.7500\n",
            "Epoch 4/25\n",
            "36/36 [==============================] - 56s 2s/step - loss: 0.6491 - accuracy: 0.7810 - val_loss: 1.1773 - val_accuracy: 0.6000\n",
            "Epoch 5/25\n",
            "36/36 [==============================] - 56s 2s/step loss: 0.5203 - accuracy: 0.8397 - val_loss: 0.3212 - val_accuracy: 0.8500\n",
            "Epoch 6/25\n",
            "36/36 [==============================] - 56s 2s/step loss: 0.4610 - accuracy: 0.8569 - val_loss: 0.6156 - val_accuracy: 0.8500\n",
            "Epoch 7/25\n",
            "36/36 [==============================] - 56s 2s/step loss: 0.4227 - accuracy: 0.8595 - val_loss: 0.8312 - val_accuracy: 0.7000\n",
            "Epoch 8/25\n",
            "36/36 [==============================] - 56s 2s/step - loss: 0.4040 - accuracy: 0.8716 - val_loss: 0.5154 - val_accuracy: 0.8500\n",
            "Epoch 9/25\n",
            "36/36 [==============================] - 56s 2s/step - loss: 0.3228 - accuracy: 0.8948 - val_loss: 0.5702 - val_accuracy: 0.9000\n",
            "Epoch 10/25\n",
            "36/36 [==============================] - 56s 2s/step - loss: 0.2383 - accuracy: 0.9233 - val_loss: 0.4318 - val_accuracy: 0.9000\n",
            "Epoch 11/25\n",
            "36/36 [==============================] - 56s 2s/step - loss: 0.2167 - accuracy: 0.9259 - val_loss: 0.3578 - val_accuracy: 0.9000\n",
            "Epoch 12/25\n",
            "36/36 [==============================] - 56s 2s/step - loss: 0.1763 - accuracy: 0.9379 - val_loss: 0.1925 - val_accuracy: 0.9000\n",
            "Epoch 13/25\n",
            "36/36 [==============================] - 56s 2s/step - loss: 0.1584 - accuracy: 0.9474 - val_loss: 0.1571 - val_accuracy: 1.0000\n",
            "Epoch 14/25\n",
            "36/36 [==============================] - 56s 2s/step - loss: 0.2142 - accuracy: 0.9310 - val_loss: 0.0457 - val_accuracy: 1.0000\n",
            "Epoch 15/25\n",
            "36/36 [==============================] - 56s 2s/step - loss: 0.1511 - accuracy: 0.9517 - val_loss: 0.0595 - val_accuracy: 0.9500\n",
            "Epoch 16/25\n",
            "36/36 [==============================] - 56s 2s/step - loss: 0.1603 - accuracy: 0.9491 - val_loss: 0.1447 - val_accuracy: 0.9500\n",
            "Epoch 17/25\n",
            "36/36 [==============================] - 56s 2s/step - loss: 0.1054 - accuracy: 0.9690 - val_loss: 0.0661 - val_accuracy: 1.0000\n",
            "Epoch 18/25\n",
            "36/36 [==============================] - 56s 2s/step - loss: 0.1280 - accuracy: 0.9655 - val_loss: 0.2626 - val_accuracy: 0.9000\n",
            "Epoch 19/25\n",
            "36/36 [==============================] - 56s 2s/step - loss: 0.0829 - accuracy: 0.9759 - val_loss: 0.2147 - val_accuracy: 0.9500\n",
            "Epoch 20/25\n",
            "36/36 [==============================] - 56s 2s/step - loss: 0.0893 - accuracy: 0.9690 - val_loss: 0.9177 - val_accuracy: 0.7500\n",
            "Epoch 21/25\n",
            "36/36 [==============================] - 56s 2s/step - loss: 0.0795 - accuracy: 0.9741 - val_loss: 0.6271 - val_accuracy: 0.8500\n",
            "Epoch 22/25\n",
            "36/36 [==============================] - 56s 2s/step - loss: 0.0946 - accuracy: 0.9672 - val_loss: 0.4674 - val_accuracy: 0.8500\n",
            "Epoch 23/25\n",
            "36/36 [==============================] - 56s 2s/step - loss: 0.1373 - accuracy: 0.9552 - val_loss: 0.0102 - val_accuracy: 1.0000\n",
            "Epoch 24/25\n",
            "36/36 [==============================] - 56s 2s/step - loss: 0.1218 - accuracy: 0.9543 - val_loss: 0.3509 - val_accuracy: 0.9500\n",
            "Epoch 25/25\n",
            "36/36 [==============================] - 56s 2s/step - loss: 0.1215 - accuracy: 0.9552 - val_loss: 0.2762 - val_accuracy: 0.9000\n"
          ]
        }
      ],
      "source": [
        "hist = model.fit(acl_img,\n",
        "                trn_labels,\n",
        "                validation_data=(acl_img_vldn, vldn_labels),\n",
        "                epochs=25)"
      ]
    }
  ],
  "metadata": {
    "accelerator": "GPU",
    "colab": {
      "name": "initial_code.ipynb",
      "provenance": []
    },
    "interpreter": {
      "hash": "edfd14e31c721d3431ba9ac3d846b22d2b31098d3e965fe2be3a196e903a75cb"
    },
    "kernelspec": {
      "display_name": "Python 3",
      "language": "python",
      "name": "python3"
    },
    "language_info": {
      "codemirror_mode": {
        "name": "ipython",
        "version": 3
      },
      "file_extension": ".py",
      "mimetype": "text/x-python",
      "name": "python",
      "nbconvert_exporter": "python",
      "pygments_lexer": "ipython3",
      "version": "3.8.8"
    }
  },
  "nbformat": 4,
  "nbformat_minor": 0
}
